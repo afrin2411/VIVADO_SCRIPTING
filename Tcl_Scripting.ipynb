{
 "cells": [
  {
   "cell_type": "markdown",
   "id": "7316eb72",
   "metadata": {},
   "source": [
    "Importing Libraries needed to run script"
   ]
  },
  {
   "cell_type": "code",
   "execution_count": 2,
   "id": "fc89e174-4bd3-4334-9423-b2e9011005e5",
   "metadata": {},
   "outputs": [],
   "source": [
    "import os\n",
    "import numpy as np\n",
    "import pandas as pd1\n",
    "import shutil\n",
    "import csv"
   ]
  },
  {
   "cell_type": "code",
   "execution_count": 5,
   "id": "e4dcb341",
   "metadata": {},
   "outputs": [
    {
     "name": "stdout",
     "output_type": "stream",
     "text": [
      "['top_andgate.v', 'top_dff.v', 'top_gray.v', 'top_muxcode.v']\n"
     ]
    }
   ],
   "source": [
    "verilog_modules = os.listdir(\"modules\")\n",
    "print(verilog_modules)"
   ]
  },
  {
   "cell_type": "code",
   "execution_count": 6,
   "id": "530af675",
   "metadata": {},
   "outputs": [
    {
     "name": "stdout",
     "output_type": "stream",
     "text": [
      "['top_andgate.v', 'top_dff.v', 'top_gray.v', 'top_muxcode.v']\n"
     ]
    }
   ],
   "source": [
    "top_mod = [i for i in verilog_modules if i[:3] == 'top'] \n",
    "print(top_mod)"
   ]
  },
  {
   "cell_type": "code",
   "execution_count": null,
   "id": "2bf4a1d5",
   "metadata": {},
   "outputs": [
    {
     "data": {
      "text/plain": [
       "0"
      ]
     },
     "execution_count": 20,
     "metadata": {},
     "output_type": "execute_result"
    }
   ],
   "source": [
    "os.system(\"vivado -mode batch -source tcl_create.tcl\")"
   ]
  },
  {
   "cell_type": "code",
   "execution_count": 21,
   "id": "2b6a486e-5610-47f2-8c8f-f0b40e16adc4",
   "metadata": {
    "tags": []
   },
   "outputs": [],
   "source": [
    "for j in top_mod:\n",
    "    os.system(\"vivado -mode batch -source tcl_add.tcl -tclargs {}\".format(j))\n"
   ]
  },
  {
   "cell_type": "code",
   "execution_count": 3,
   "id": "48e0bc13",
   "metadata": {},
   "outputs": [],
   "source": [
    "os.mkdir(\"results\")"
   ]
  },
  {
   "cell_type": "code",
   "execution_count": 10,
   "id": "7e9bb8cc",
   "metadata": {},
   "outputs": [
    {
     "name": "stdout",
     "output_type": "stream",
     "text": [
      "top_andgate.v reported\n",
      "top_dff.v reported\n",
      "top_gray.v reported\n",
      "top_muxcode.v reported\n"
     ]
    }
   ],
   "source": [
    "for k in top_mod:\n",
    "    os.mkdir(\"results/\"+k[:-2])\n",
    "    os.system(\"vivado -mode batch -source tcl_run.tcl -tclargs {}\".format(k))\n",
    "    print(\"{} reported\".format(k))"
   ]
  },
  {
   "cell_type": "code",
   "execution_count": null,
   "id": "42b9d996",
   "metadata": {},
   "outputs": [],
   "source": []
  },
  {
   "cell_type": "markdown",
   "id": "0c9fcf5e",
   "metadata": {},
   "source": [
    "Generating Result.csv file \n",
    "The approach is to search for certain text in the generated reports and extract out the numerical values needed."
   ]
  },
  {
   "cell_type": "code",
   "execution_count": 11,
   "id": "198f4505",
   "metadata": {},
   "outputs": [
    {
     "name": "stdout",
     "output_type": "stream",
     "text": [
      "['top_andgate', 'top_dff', 'top_gray', 'top_muxcode']\n"
     ]
    }
   ],
   "source": [
    "top_files=os.listdir(\"results\")\n",
    "print(top_files)"
   ]
  },
  {
   "cell_type": "code",
   "execution_count": 69,
   "id": "a9982211",
   "metadata": {},
   "outputs": [],
   "source": [
    "POWER=[]\n",
    "DELAY=[]\n",
    "LUT=[]"
   ]
  },
  {
   "cell_type": "code",
   "execution_count": 70,
   "id": "541da065",
   "metadata": {},
   "outputs": [
    {
     "name": "stdout",
     "output_type": "stream",
     "text": [
      "[1.0, 0.0, 2.0, 2.0]\n",
      "[5.624, 4.014, 6.257, 6.22]\n",
      "[0.371, 0.396, 1.674, 1.03]\n"
     ]
    }
   ],
   "source": [
    "for i in top_files:\n",
    "        with open(\"results/{}/{}\".format(i,\"power.txt\"),\"r\") as File_PTU:\n",
    "          \n",
    "         words = File_PTU.read().split('\\n')  \n",
    "         for word in words:\n",
    "             if 'Total On-Chip Power' in word:\n",
    "                power=float(word.split()[6])\n",
    "                POWER.append(power)\n",
    " \n",
    "        with open(\"results/{}/{}\".format(i,\"timing.txt\"),\"r\") as File_PTU:\n",
    "          \n",
    "         words = File_PTU.read().split('\\n')  \n",
    "         for word in words:\n",
    "             if 'Data Path Delay' in word:\n",
    "                delay=float(word.split()[3][:-2])\n",
    "                DELAY.append(delay)\n",
    " \n",
    "        with open(\"results/{}/{}\".format(i,\"utilization.txt\"),\"r\") as File_PTU:\n",
    "          \n",
    "         words = File_PTU.read().split('\\n')  \n",
    "         for word in words:\n",
    "             if 'Slice LUTs' in word:\n",
    "                luts=float(word.split()[4])\n",
    "                LUT.append(luts)   \n",
    "print(LUT)    \n",
    "print(DELAY)  \n",
    "print(POWER) \n",
    "\n",
    "              \n",
    "            \n",
    "\n",
    "\n",
    "\n"
   ]
  },
  {
   "cell_type": "code",
   "execution_count": 71,
   "id": "3bfbc79b-cde0-4eb1-879f-aafac4fd8995",
   "metadata": {},
   "outputs": [
    {
     "name": "stdout",
     "output_type": "stream",
     "text": [
      "       top_andgate  top_dff  top_gray  top_muxcode\n",
      "POWER        0.371    0.396     1.674         1.03\n",
      "DELAY        5.624    4.014     6.257         6.22\n",
      "LUTs         1.000    0.000     2.000         2.00\n"
     ]
    }
   ],
   "source": [
    "ROW=[\"POWER\",\"DELAY\",\"LUTs\"]\n",
    "display=pd1.DataFrame([POWER,DELAY,LUT],index=ROW)\n",
    "display.columns=top_files\n",
    "\n",
    "display.to_csv(\"RESULT_CSV.csv\",index=ROW)\n",
    "print(display)"
   ]
  },
  {
   "cell_type": "code",
   "execution_count": 8,
   "id": "10e911d7-5cf3-47d1-95b4-a3848c307702",
   "metadata": {},
   "outputs": [],
   "source": []
  },
  {
   "cell_type": "code",
   "execution_count": 9,
   "id": "63cf471c-9db6-4f3b-9a6b-9bdc1434b549",
   "metadata": {},
   "outputs": [],
   "source": []
  },
  {
   "cell_type": "code",
   "execution_count": null,
   "id": "9d2a42af-d383-4a7b-9719-a3476e42cb88",
   "metadata": {},
   "outputs": [],
   "source": []
  }
 ],
 "metadata": {
  "kernelspec": {
   "display_name": "Python 3",
   "language": "python",
   "name": "python3"
  },
  "language_info": {
   "codemirror_mode": {
    "name": "ipython",
    "version": 3
   },
   "file_extension": ".py",
   "mimetype": "text/x-python",
   "name": "python",
   "nbconvert_exporter": "python",
   "pygments_lexer": "ipython3",
   "version": "3.6.8"
  }
 },
 "nbformat": 4,
 "nbformat_minor": 5
}
